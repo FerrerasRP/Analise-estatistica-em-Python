{
 "cells": [
  {
   "cell_type": "code",
   "execution_count": 1,
   "metadata": {
    "collapsed": false
   },
   "outputs": [
    {
     "name": "stdout",
     "output_type": "stream",
     "text": [
      "     Virulence  Replicate  ShannonDiversity\n",
      "0          0.5          1          0.059262\n",
      "1          0.5          2          1.093600\n",
      "2          0.5          3          1.139390\n",
      "3          0.5          4          0.547651\n",
      "4          0.5          5          0.065928\n",
      "5          0.5          6          1.344330\n",
      "6          0.5          7          1.680480\n",
      "7          0.5          8          0.000000\n",
      "8          0.5          9          2.047680\n",
      "9          0.5         10          0.000000\n",
      "10         0.5         11          1.507140\n",
      "11         0.5         12          0.000000\n",
      "12         0.5         13          1.589810\n",
      "13         0.5         14          1.144800\n",
      "14         0.5         15          1.011190\n",
      "15         0.5         16          0.000000\n",
      "16         0.5         17          0.776665\n",
      "17         0.5         18          0.001749\n",
      "18         0.5         19          1.761200\n",
      "19         0.5         20          0.021091\n",
      "20         0.5         21          0.790915\n",
      "21         0.5         22          0.000000\n",
      "22         0.5         23          0.018866\n",
      "23         0.5         24          0.994268\n",
      "24         0.5         25          1.729620\n",
      "25         0.5         26          0.967537\n",
      "26         0.5         27          0.457318\n",
      "27         0.5         28          0.992525\n",
      "28         0.5         29          1.506640\n",
      "29         0.5         30          0.697241\n",
      "..         ...        ...               ...\n",
      "320        NaN         21          0.000000\n",
      "321        NaN         22          0.000000\n",
      "322        NaN         23          0.000000\n",
      "323        NaN         24          0.000000\n",
      "324        NaN         25          0.000000\n",
      "325        NaN         26          0.000000\n",
      "326        NaN         27          1.702720\n",
      "327        NaN         28          0.169556\n",
      "328        NaN         29          0.949750\n",
      "329        NaN         30          0.240084\n",
      "330        NaN         31          0.925913\n",
      "331        NaN         32          0.000000\n",
      "332        NaN         33          0.693356\n",
      "333        NaN         34          0.000000\n",
      "334        NaN         35          0.310170\n",
      "335        NaN         36          0.000000\n",
      "336        NaN         37          0.000000\n",
      "337        NaN         38          0.000000\n",
      "338        NaN         39          0.000000\n",
      "339        NaN         40          0.000000\n",
      "340        NaN         41          0.000000\n",
      "341        NaN         42          0.000000\n",
      "342        NaN         43          0.000000\n",
      "343        NaN         44          0.000000\n",
      "344        NaN         45          0.391061\n",
      "345        NaN         46          0.001669\n",
      "346        NaN         47          0.000000\n",
      "347        NaN         48          0.444463\n",
      "348        NaN         49          0.383512\n",
      "349        NaN         50          0.511329\n",
      "\n",
      "[350 rows x 3 columns]\n"
     ]
    }
   ],
   "source": [
    "from pandas import *  \n",
    "# Deve especificar que o espaço em branco \" \" é NaN\n",
    "experimentDF = read_csv(\"parasite_data.csv\", na_values=[\" \"])  \n",
    "print experimentDF"
   ]
  },
  {
   "cell_type": "code",
   "execution_count": 2,
   "metadata": {
    "collapsed": false
   },
   "outputs": [
    {
     "data": {
      "text/html": [
       "<div>\n",
       "<table border=\"1\" class=\"dataframe\">\n",
       "  <thead>\n",
       "    <tr style=\"text-align: right;\">\n",
       "      <th></th>\n",
       "      <th>Virulence</th>\n",
       "      <th>Replicate</th>\n",
       "      <th>ShannonDiversity</th>\n",
       "    </tr>\n",
       "  </thead>\n",
       "  <tbody>\n",
       "    <tr>\n",
       "      <th>0</th>\n",
       "      <td>0.5</td>\n",
       "      <td>1</td>\n",
       "      <td>0.059262</td>\n",
       "    </tr>\n",
       "    <tr>\n",
       "      <th>1</th>\n",
       "      <td>0.5</td>\n",
       "      <td>2</td>\n",
       "      <td>1.093600</td>\n",
       "    </tr>\n",
       "    <tr>\n",
       "      <th>2</th>\n",
       "      <td>0.5</td>\n",
       "      <td>3</td>\n",
       "      <td>1.139390</td>\n",
       "    </tr>\n",
       "    <tr>\n",
       "      <th>3</th>\n",
       "      <td>0.5</td>\n",
       "      <td>4</td>\n",
       "      <td>0.547651</td>\n",
       "    </tr>\n",
       "    <tr>\n",
       "      <th>4</th>\n",
       "      <td>0.5</td>\n",
       "      <td>5</td>\n",
       "      <td>0.065928</td>\n",
       "    </tr>\n",
       "  </tbody>\n",
       "</table>\n",
       "</div>"
      ],
      "text/plain": [
       "   Virulence  Replicate  ShannonDiversity\n",
       "0        0.5          1          0.059262\n",
       "1        0.5          2          1.093600\n",
       "2        0.5          3          1.139390\n",
       "3        0.5          4          0.547651\n",
       "4        0.5          5          0.065928"
      ]
     },
     "execution_count": 2,
     "metadata": {},
     "output_type": "execute_result"
    }
   ],
   "source": [
    "experimentDF.head()"
   ]
  },
  {
   "cell_type": "code",
   "execution_count": 3,
   "metadata": {
    "collapsed": false
   },
   "outputs": [
    {
     "name": "stdout",
     "output_type": "stream",
     "text": [
      "0.790915\n"
     ]
    }
   ],
   "source": [
    "# Mostra a 15 linha da coluna ShannonDiversity\n",
    "print experimentDF[\"ShannonDiversity\"] [20]"
   ]
  },
  {
   "cell_type": "code",
   "execution_count": 4,
   "metadata": {
    "collapsed": false
   },
   "outputs": [
    {
     "name": "stdout",
     "output_type": "stream",
     "text": [
      "     Virulence  Replicate  ShannonDiversity\n",
      "8          0.5          9           2.04768\n",
      "89         0.6         40           2.01066\n",
      "92         0.6         43           2.90081\n",
      "96         0.6         47           2.02915\n",
      "105        0.7          6           2.23427\n",
      "117        0.7         18           2.14296\n",
      "127        0.7         28           2.23599\n",
      "129        0.7         30           2.48422\n",
      "133        0.7         34           2.18506\n",
      "134        0.7         35           2.42177\n",
      "139        0.7         40           2.25737\n",
      "142        0.7         43           2.07258\n",
      "148        0.7         49           2.38326\n",
      "151        0.8          2           2.07970\n",
      "153        0.8          4           2.38474\n",
      "163        0.8         14           2.03252\n",
      "165        0.8         16           2.38415\n",
      "170        0.8         21           2.02297\n",
      "172        0.8         23           2.13882\n",
      "173        0.8         24           2.53339\n",
      "182        0.8         33           2.17865\n",
      "196        0.8         47           2.07718\n",
      "208        0.9          9           2.12240\n",
      "209        0.9         10           2.46144\n",
      "212        0.9         13           2.20476\n",
      "229        0.9         30           2.28026\n",
      "235        0.9         36           2.19565\n",
      "237        0.9         38           2.16535\n",
      "243        0.9         44           2.17578\n",
      "251        1.0          2           2.16044\n"
     ]
    }
   ],
   "source": [
    "# Mostrar todas as entradas na coluna ShannonDiversity> 2.0\n",
    "print experimentDF[experimentDF [\"ShannonDiversity\"]> 2.0]"
   ]
  },
  {
   "cell_type": "code",
   "execution_count": 5,
   "metadata": {
    "collapsed": false
   },
   "outputs": [
    {
     "name": "stdout",
     "output_type": "stream",
     "text": [
      "     Virulence  Replicate  ShannonDiversity\n",
      "300        NaN          1          0.000000\n",
      "301        NaN          2          0.000000\n",
      "302        NaN          3          0.833645\n",
      "303        NaN          4          0.000000\n",
      "304        NaN          5          0.990309\n",
      "305        NaN          6          0.000000\n",
      "306        NaN          7          0.000000\n",
      "307        NaN          8          0.000000\n",
      "308        NaN          9          0.061414\n",
      "309        NaN         10          0.316439\n",
      "310        NaN         11          0.904773\n",
      "311        NaN         12          0.884122\n",
      "312        NaN         13          0.000000\n",
      "313        NaN         14          0.000000\n",
      "314        NaN         15          0.000000\n",
      "315        NaN         16          0.000000\n",
      "316        NaN         17          0.013495\n",
      "317        NaN         18          0.882519\n",
      "318        NaN         19          0.000000\n",
      "319        NaN         20          0.986830\n",
      "320        NaN         21          0.000000\n",
      "321        NaN         22          0.000000\n",
      "322        NaN         23          0.000000\n",
      "323        NaN         24          0.000000\n",
      "324        NaN         25          0.000000\n",
      "325        NaN         26          0.000000\n",
      "326        NaN         27          1.702720\n",
      "327        NaN         28          0.169556\n",
      "328        NaN         29          0.949750\n",
      "329        NaN         30          0.240084\n",
      "330        NaN         31          0.925913\n",
      "331        NaN         32          0.000000\n",
      "332        NaN         33          0.693356\n",
      "333        NaN         34          0.000000\n",
      "334        NaN         35          0.310170\n",
      "335        NaN         36          0.000000\n",
      "336        NaN         37          0.000000\n",
      "337        NaN         38          0.000000\n",
      "338        NaN         39          0.000000\n",
      "339        NaN         40          0.000000\n",
      "340        NaN         41          0.000000\n",
      "341        NaN         42          0.000000\n",
      "342        NaN         43          0.000000\n",
      "343        NaN         44          0.000000\n",
      "344        NaN         45          0.391061\n",
      "345        NaN         46          0.001669\n",
      "346        NaN         47          0.000000\n",
      "347        NaN         48          0.444463\n",
      "348        NaN         49          0.383512\n",
      "349        NaN         50          0.511329\n"
     ]
    }
   ],
   "source": [
    "import numpy as np\n",
    "print experimentDF[np.isnan(experimentDF[\"Virulence\"])]"
   ]
  },
  {
   "cell_type": "code",
   "execution_count": 6,
   "metadata": {
    "collapsed": false
   },
   "outputs": [
    {
     "name": "stdout",
     "output_type": "stream",
     "text": [
      " Virulência média em todos os tratamentos: 0.75\n"
     ]
    }
   ],
   "source": [
    "print \" Virulência média em todos os tratamentos:\", experimentDF[\"Virulence\"].mean()"
   ]
  },
  {
   "cell_type": "code",
   "execution_count": 7,
   "metadata": {
    "collapsed": false
   },
   "outputs": [
    {
     "name": "stdout",
     "output_type": "stream",
     "text": [
      " Virulência média em todos os tratamentos: nan\n"
     ]
    }
   ],
   "source": [
    "from scipy import stats  \n",
    "print \" Virulência média em todos os tratamentos:\", stats.sem(experimentDF[\"Virulence\"])"
   ]
  },
  {
   "cell_type": "code",
   "execution_count": 8,
   "metadata": {
    "collapsed": false
   },
   "outputs": [
    {
     "name": "stdout",
     "output_type": "stream",
     "text": [
      "     Virulence  Replicate  ShannonDiversity\n",
      "0          0.5          1          0.059262\n",
      "1          0.5          2          1.093600\n",
      "2          0.5          3          1.139390\n",
      "3          0.5          4          0.547651\n",
      "4          0.5          5          0.065928\n",
      "5          0.5          6          1.344330\n",
      "6          0.5          7          1.680480\n",
      "7          0.5          8          0.000000\n",
      "8          0.5          9          2.047680\n",
      "9          0.5         10          0.000000\n",
      "10         0.5         11          1.507140\n",
      "11         0.5         12          0.000000\n",
      "12         0.5         13          1.589810\n",
      "13         0.5         14          1.144800\n",
      "14         0.5         15          1.011190\n",
      "15         0.5         16          0.000000\n",
      "16         0.5         17          0.776665\n",
      "17         0.5         18          0.001749\n",
      "18         0.5         19          1.761200\n",
      "19         0.5         20          0.021091\n",
      "20         0.5         21          0.790915\n",
      "21         0.5         22          0.000000\n",
      "22         0.5         23          0.018866\n",
      "23         0.5         24          0.994268\n",
      "24         0.5         25          1.729620\n",
      "25         0.5         26          0.967537\n",
      "26         0.5         27          0.457318\n",
      "27         0.5         28          0.992525\n",
      "28         0.5         29          1.506640\n",
      "29         0.5         30          0.697241\n",
      "..         ...        ...               ...\n",
      "270        1.0         21          0.000000\n",
      "271        1.0         22          0.000000\n",
      "272        1.0         23          0.000000\n",
      "273        1.0         24          0.000000\n",
      "274        1.0         25          0.000000\n",
      "275        1.0         26          0.000000\n",
      "276        1.0         27          0.000000\n",
      "277        1.0         28          0.000000\n",
      "278        1.0         29          0.460192\n",
      "279        1.0         30          0.909254\n",
      "280        1.0         31          0.971351\n",
      "281        1.0         32          0.000000\n",
      "282        1.0         33          0.887569\n",
      "283        1.0         34          0.000000\n",
      "284        1.0         35          0.000000\n",
      "285        1.0         36          0.000000\n",
      "286        1.0         37          0.000000\n",
      "287        1.0         38          0.000000\n",
      "288        1.0         39          0.000000\n",
      "289        1.0         40          1.514560\n",
      "290        1.0         41          0.000000\n",
      "291        1.0         42          0.000000\n",
      "292        1.0         43          0.000000\n",
      "293        1.0         44          0.716393\n",
      "294        1.0         45          0.000000\n",
      "295        1.0         46          0.644337\n",
      "296        1.0         47          0.875816\n",
      "297        1.0         48          0.000000\n",
      "298        1.0         49          0.000000\n",
      "299        1.0         50          0.000000\n",
      "\n",
      "[300 rows x 3 columns]\n"
     ]
    }
   ],
   "source": [
    "# OBSERVAÇÃO: isto remove toda a linha se qualquer uma de suas entradas for NA/NaN!\n",
    "print experimentDF.dropna() "
   ]
  },
  {
   "cell_type": "code",
   "execution_count": 9,
   "metadata": {
    "collapsed": false
   },
   "outputs": [
    {
     "name": "stdout",
     "output_type": "stream",
     "text": [
      "0      0.5\n",
      "1      0.5\n",
      "2      0.5\n",
      "3      0.5\n",
      "4      0.5\n",
      "5      0.5\n",
      "6      0.5\n",
      "7      0.5\n",
      "8      0.5\n",
      "9      0.5\n",
      "10     0.5\n",
      "11     0.5\n",
      "12     0.5\n",
      "13     0.5\n",
      "14     0.5\n",
      "15     0.5\n",
      "16     0.5\n",
      "17     0.5\n",
      "18     0.5\n",
      "19     0.5\n",
      "20     0.5\n",
      "21     0.5\n",
      "22     0.5\n",
      "23     0.5\n",
      "24     0.5\n",
      "25     0.5\n",
      "26     0.5\n",
      "27     0.5\n",
      "28     0.5\n",
      "29     0.5\n",
      "      ... \n",
      "270    1.0\n",
      "271    1.0\n",
      "272    1.0\n",
      "273    1.0\n",
      "274    1.0\n",
      "275    1.0\n",
      "276    1.0\n",
      "277    1.0\n",
      "278    1.0\n",
      "279    1.0\n",
      "280    1.0\n",
      "281    1.0\n",
      "282    1.0\n",
      "283    1.0\n",
      "284    1.0\n",
      "285    1.0\n",
      "286    1.0\n",
      "287    1.0\n",
      "288    1.0\n",
      "289    1.0\n",
      "290    1.0\n",
      "291    1.0\n",
      "292    1.0\n",
      "293    1.0\n",
      "294    1.0\n",
      "295    1.0\n",
      "296    1.0\n",
      "297    1.0\n",
      "298    1.0\n",
      "299    1.0\n",
      "Name: Virulence, dtype: float64\n"
     ]
    }
   ],
   "source": [
    "print experimentDF[\"Virulence\"].dropna()"
   ]
  },
  {
   "cell_type": "code",
   "execution_count": 10,
   "metadata": {
    "collapsed": false
   },
   "outputs": [
    {
     "name": "stdout",
     "output_type": "stream",
     "text": [
      "0      0.5\n",
      "1      0.5\n",
      "2      0.5\n",
      "3      0.5\n",
      "4      0.5\n",
      "5      0.5\n",
      "6      0.5\n",
      "7      0.5\n",
      "8      0.5\n",
      "9      0.5\n",
      "10     0.5\n",
      "11     0.5\n",
      "12     0.5\n",
      "13     0.5\n",
      "14     0.5\n",
      "15     0.5\n",
      "16     0.5\n",
      "17     0.5\n",
      "18     0.5\n",
      "19     0.5\n",
      "20     0.5\n",
      "21     0.5\n",
      "22     0.5\n",
      "23     0.5\n",
      "24     0.5\n",
      "25     0.5\n",
      "26     0.5\n",
      "27     0.5\n",
      "28     0.5\n",
      "29     0.5\n",
      "      ... \n",
      "320    0.0\n",
      "321    0.0\n",
      "322    0.0\n",
      "323    0.0\n",
      "324    0.0\n",
      "325    0.0\n",
      "326    0.0\n",
      "327    0.0\n",
      "328    0.0\n",
      "329    0.0\n",
      "330    0.0\n",
      "331    0.0\n",
      "332    0.0\n",
      "333    0.0\n",
      "334    0.0\n",
      "335    0.0\n",
      "336    0.0\n",
      "337    0.0\n",
      "338    0.0\n",
      "339    0.0\n",
      "340    0.0\n",
      "341    0.0\n",
      "342    0.0\n",
      "343    0.0\n",
      "344    0.0\n",
      "345    0.0\n",
      "346    0.0\n",
      "347    0.0\n",
      "348    0.0\n",
      "349    0.0\n",
      "Name: Virulence, dtype: float64\n"
     ]
    }
   ],
   "source": [
    "print experimentDF.fillna(0.0)[\"Virulence\"] "
   ]
  },
  {
   "cell_type": "code",
   "execution_count": 11,
   "metadata": {
    "collapsed": false
   },
   "outputs": [
    {
     "name": "stdout",
     "output_type": "stream",
     "text": [
      "('Mean virulence across all treatments w/ dropped NaN:', 0.7500000000000013)\n",
      "('Mean virulence across all treatments w/ filled NaN:', 0.642857142857144)\n"
     ]
    }
   ],
   "source": [
    "print (\"Mean virulence across all treatments w/ dropped NaN:\", experimentDF[\"Virulence\"].dropna().mean())  \n",
    "print (\"Mean virulence across all treatments w/ filled NaN:\", experimentDF.fillna(0.0)[\"Virulence\"].mean())"
   ]
  },
  {
   "cell_type": "code",
   "execution_count": 12,
   "metadata": {
    "collapsed": false
   },
   "outputs": [
    {
     "name": "stdout",
     "output_type": "stream",
     "text": [
      "('Media da Shannon Diversity com peso (w/ 0.8) e Virul\\xc3\\xaancia do parasita =', 1.2691338187999996)\n"
     ]
    }
   ],
   "source": [
    "print (\"Media da Shannon Diversity com peso (w/ 0.8) e Virulência do parasita =\", experimentDF[experimentDF[\"Virulence\"] == 0.8][\"ShannonDiversity\"].mean()) "
   ]
  },
  {
   "cell_type": "code",
   "execution_count": 13,
   "metadata": {
    "collapsed": false
   },
   "outputs": [
    {
     "name": "stdout",
     "output_type": "stream",
     "text": [
      "('Variancia da Shannon Diversity com peso (w/ 0.8) e Virul\\xc3\\xaancia do parasita =', 0.6110384333126732)\n"
     ]
    }
   ],
   "source": [
    "from pandas import *  \n",
    "print (\"Variancia da Shannon Diversity com peso (w/ 0.8) e Virulência do parasita =\",  experimentDF[experimentDF[\"Virulence\"] == 0.8][\"ShannonDiversity\"].var())  "
   ]
  },
  {
   "cell_type": "code",
   "execution_count": 14,
   "metadata": {
    "collapsed": false
   },
   "outputs": [
    {
     "name": "stdout",
     "output_type": "stream",
     "text": [
      "('SEM da Shannon Diversity com peso (w/ 0.8) e Virul\\xc3\\xaancia do parasita =', 0.11054758552882764)\n"
     ]
    }
   ],
   "source": [
    "from pandas import *  \n",
    "from scipy import stats\n",
    "print (\"SEM da Shannon Diversity com peso (w/ 0.8) e Virulência do parasita =\",stats.sem(experimentDF[experimentDF[\"Virulence\"] == 0.8][\"ShannonDiversity\"]))"
   ]
  },
  {
   "cell_type": "code",
   "execution_count": 15,
   "metadata": {
    "collapsed": false
   },
   "outputs": [
    {
     "name": "stdout",
     "output_type": "stream",
     "text": [
      "Primeiro Conjunto de dados:\n",
      "0     0.059262\n",
      "1     1.093600\n",
      "2     1.139390\n",
      "3     0.547651\n",
      "4     0.065928\n",
      "5     1.344330\n",
      "6     1.680480\n",
      "7     0.000000\n",
      "8     2.047680\n",
      "9     0.000000\n",
      "10    1.507140\n",
      "11    0.000000\n",
      "12    1.589810\n",
      "13    1.144800\n",
      "14    1.011190\n",
      "15    0.000000\n",
      "16    0.776665\n",
      "17    0.001749\n",
      "18    1.761200\n",
      "19    0.021091\n",
      "20    0.790915\n",
      "21    0.000000\n",
      "22    0.018866\n",
      "23    0.994268\n",
      "24    1.729620\n",
      "25    0.967537\n",
      "26    0.457318\n",
      "27    0.992525\n",
      "28    1.506640\n",
      "29    0.697241\n",
      "30    1.790580\n",
      "31    1.787710\n",
      "32    0.857742\n",
      "33    0.000000\n",
      "34    0.445267\n",
      "35    0.045471\n",
      "36    0.003490\n",
      "37    0.000000\n",
      "38    0.115830\n",
      "39    0.980076\n",
      "40    0.000000\n",
      "41    0.820405\n",
      "42    0.124755\n",
      "43    0.719755\n",
      "44    0.584252\n",
      "45    1.937930\n",
      "46    1.284150\n",
      "47    1.651680\n",
      "48    0.000000\n",
      "49    0.000000\n",
      "Name: ShannonDiversity, dtype: float64\n",
      "Segundo Conjunto de dados:\n",
      "150    1.433800\n",
      "151    2.079700\n",
      "152    0.892139\n",
      "153    2.384740\n",
      "154    0.006980\n",
      "155    1.971760\n",
      "156    0.000000\n",
      "157    1.428470\n",
      "158    1.715950\n",
      "159    0.000000\n",
      "160    0.421927\n",
      "161    1.179920\n",
      "162    0.932470\n",
      "163    2.032520\n",
      "164    0.960912\n",
      "165    2.384150\n",
      "166    1.879130\n",
      "167    1.238890\n",
      "168    1.584300\n",
      "169    1.118490\n",
      "170    2.022970\n",
      "171    0.000000\n",
      "172    2.138820\n",
      "173    2.533390\n",
      "174    1.212340\n",
      "175    0.059135\n",
      "176    1.578260\n",
      "177    1.725210\n",
      "178    0.293153\n",
      "179    0.000000\n",
      "180    0.000000\n",
      "181    1.699600\n",
      "182    2.178650\n",
      "183    1.792580\n",
      "184    1.920800\n",
      "185    0.000000\n",
      "186    1.583250\n",
      "187    0.343235\n",
      "188    1.980010\n",
      "189    0.980876\n",
      "190    1.089380\n",
      "191    0.979254\n",
      "192    1.190450\n",
      "193    1.738880\n",
      "194    1.154100\n",
      "195    1.981610\n",
      "196    2.077180\n",
      "197    1.566410\n",
      "198    0.000000\n",
      "199    1.990900\n",
      "Name: ShannonDiversity, dtype: float64\n"
     ]
    }
   ],
   "source": [
    "# Selecionar dois conjuntos de dados do tratamento a partir da coluna dos dados do parasita\n",
    "treatment1 = experimentDF[experimentDF[\"Virulence\"] == 0.5][\"ShannonDiversity\"]  \n",
    "treatment2 = experimentDF[experimentDF[\"Virulence\"] == 0.8][\"ShannonDiversity\"]  \n",
    "\n",
    "print \"Primeiro Conjunto de dados:\\n\", treatment1  \n",
    "print \"Segundo Conjunto de dados:\\n\", treatment2 "
   ]
  },
  {
   "cell_type": "code",
   "execution_count": 16,
   "metadata": {
    "collapsed": false
   },
   "outputs": [
    {
     "name": "stdout",
     "output_type": "stream",
     "text": [
      "Valor P do teste RankSum entre o primeiro e o segundo tratamento = 0.000983355902735\n"
     ]
    }
   ],
   "source": [
    "from scipy import stats \n",
    "z_stat, p_val = stats.ranksums(treatment1, treatment2)  \n",
    "print \"Valor P do teste RankSum entre o primeiro e o segundo tratamento =\", p_val "
   ]
  },
  {
   "cell_type": "code",
   "execution_count": 17,
   "metadata": {
    "collapsed": false
   },
   "outputs": [
    {
     "name": "stdout",
     "output_type": "stream",
     "text": [
      " Terceiro Conjunto de dados:\n",
      "150    1.433800\n",
      "151    2.079700\n",
      "152    0.892139\n",
      "153    2.384740\n",
      "154    0.006980\n",
      "155    1.971760\n",
      "156    0.000000\n",
      "157    1.428470\n",
      "158    1.715950\n",
      "159    0.000000\n",
      "160    0.421927\n",
      "161    1.179920\n",
      "162    0.932470\n",
      "163    2.032520\n",
      "164    0.960912\n",
      "165    2.384150\n",
      "166    1.879130\n",
      "167    1.238890\n",
      "168    1.584300\n",
      "169    1.118490\n",
      "170    2.022970\n",
      "171    0.000000\n",
      "172    2.138820\n",
      "173    2.533390\n",
      "174    1.212340\n",
      "175    0.059135\n",
      "176    1.578260\n",
      "177    1.725210\n",
      "178    0.293153\n",
      "179    0.000000\n",
      "180    0.000000\n",
      "181    1.699600\n",
      "182    2.178650\n",
      "183    1.792580\n",
      "184    1.920800\n",
      "185    0.000000\n",
      "186    1.583250\n",
      "187    0.343235\n",
      "188    1.980010\n",
      "189    0.980876\n",
      "190    1.089380\n",
      "191    0.979254\n",
      "192    1.190450\n",
      "193    1.738880\n",
      "194    1.154100\n",
      "195    1.981610\n",
      "196    2.077180\n",
      "197    1.566410\n",
      "198    0.000000\n",
      "199    1.990900\n",
      "Name: ShannonDiversity, dtype: float64\n",
      "Quarto Conjunto de dados:\n",
      "200    1.036930\n",
      "201    0.938018\n",
      "202    0.995956\n",
      "203    1.006970\n",
      "204    0.968258\n",
      "205    0.000000\n",
      "206    0.416046\n",
      "207    1.570310\n",
      "208    2.122400\n",
      "209    2.461440\n",
      "210    0.969003\n",
      "211    0.000000\n",
      "212    2.204760\n",
      "213    0.999556\n",
      "214    1.820140\n",
      "215    1.581250\n",
      "216    1.950260\n",
      "217    1.633000\n",
      "218    1.854850\n",
      "219    0.159017\n",
      "220    0.997556\n",
      "221    1.935620\n",
      "222    1.814500\n",
      "223    0.999802\n",
      "224    0.000000\n",
      "225    0.186966\n",
      "226    1.569840\n",
      "227    1.660550\n",
      "228    0.998564\n",
      "229    2.280260\n",
      "230    1.560220\n",
      "231    0.992335\n",
      "232    1.557250\n",
      "233    1.536150\n",
      "234    1.584580\n",
      "235    2.195650\n",
      "236    1.327320\n",
      "237    2.165350\n",
      "238    1.711200\n",
      "239    1.885540\n",
      "240    0.960891\n",
      "241    0.958280\n",
      "242    0.990460\n",
      "243    2.175780\n",
      "244    0.890169\n",
      "245    1.922790\n",
      "246    1.564330\n",
      "247    1.870380\n",
      "248    1.262280\n",
      "249    0.000000\n",
      "Name: ShannonDiversity, dtype: float64\n"
     ]
    }
   ],
   "source": [
    "treatment3 = experimentDF[experimentDF[\"Virulence\"] == 0.8][\"ShannonDiversity\"]  \n",
    "treatment4 = experimentDF[experimentDF[\"Virulence\"] == 0.9][\"ShannonDiversity\"]  \n",
    "print \" Terceiro Conjunto de dados:\\n\", treatment3  \n",
    "print \"Quarto Conjunto de dados:\\n\", treatment4  "
   ]
  },
  {
   "cell_type": "code",
   "execution_count": 18,
   "metadata": {
    "collapsed": false
   },
   "outputs": [
    {
     "name": "stdout",
     "output_type": "stream",
     "text": [
      " Valor P do teste RankSum entre o terceiro e o quarto tratamento  = 0.994499571124\n"
     ]
    }
   ],
   "source": [
    "z_stat, p_val = stats.ranksums(treatment3, treatment4)  \n",
    "print \" Valor P do teste RankSum entre o terceiro e o quarto tratamento  =\", p_val"
   ]
  },
  {
   "cell_type": "code",
   "execution_count": 19,
   "metadata": {
    "collapsed": false
   },
   "outputs": [
    {
     "name": "stdout",
     "output_type": "stream",
     "text": [
      "Data set 1:\n",
      "100    1.595440\n",
      "101    1.419730\n",
      "102    0.000000\n",
      "103    0.000000\n",
      "104    0.787591\n",
      "105    2.234270\n",
      "106    1.700440\n",
      "107    0.954747\n",
      "108    1.127320\n",
      "109    1.761330\n",
      "110    0.000000\n",
      "111    0.374074\n",
      "112    1.836250\n",
      "113    1.583900\n",
      "114    0.998377\n",
      "115    0.341714\n",
      "116    0.892717\n",
      "117    2.142960\n",
      "118    1.824870\n",
      "119    0.999703\n",
      "120    0.957757\n",
      "121    1.152910\n",
      "122    0.597295\n",
      "123    1.959020\n",
      "124    0.764003\n",
      "125    0.614147\n",
      "126    0.617618\n",
      "127    2.235990\n",
      "128    0.000000\n",
      "129    2.484220\n",
      "130    0.008294\n",
      "131    1.003480\n",
      "132    1.292820\n",
      "133    2.185060\n",
      "134    2.421770\n",
      "135    0.713224\n",
      "136    0.551367\n",
      "137    0.006377\n",
      "138    0.948393\n",
      "139    2.257370\n",
      "140    1.394850\n",
      "141    0.547157\n",
      "142    2.072580\n",
      "143    1.323440\n",
      "144    1.001340\n",
      "145    1.042600\n",
      "146    0.000000\n",
      "147    1.139100\n",
      "148    2.383260\n",
      "149    0.056819\n",
      "Name: ShannonDiversity, dtype: float64\n",
      "Data set 2:\n",
      "150    1.433800\n",
      "151    2.079700\n",
      "152    0.892139\n",
      "153    2.384740\n",
      "154    0.006980\n",
      "155    1.971760\n",
      "156    0.000000\n",
      "157    1.428470\n",
      "158    1.715950\n",
      "159    0.000000\n",
      "160    0.421927\n",
      "161    1.179920\n",
      "162    0.932470\n",
      "163    2.032520\n",
      "164    0.960912\n",
      "165    2.384150\n",
      "166    1.879130\n",
      "167    1.238890\n",
      "168    1.584300\n",
      "169    1.118490\n",
      "170    2.022970\n",
      "171    0.000000\n",
      "172    2.138820\n",
      "173    2.533390\n",
      "174    1.212340\n",
      "175    0.059135\n",
      "176    1.578260\n",
      "177    1.725210\n",
      "178    0.293153\n",
      "179    0.000000\n",
      "180    0.000000\n",
      "181    1.699600\n",
      "182    2.178650\n",
      "183    1.792580\n",
      "184    1.920800\n",
      "185    0.000000\n",
      "186    1.583250\n",
      "187    0.343235\n",
      "188    1.980010\n",
      "189    0.980876\n",
      "190    1.089380\n",
      "191    0.979254\n",
      "192    1.190450\n",
      "193    1.738880\n",
      "194    1.154100\n",
      "195    1.981610\n",
      "196    2.077180\n",
      "197    1.566410\n",
      "198    0.000000\n",
      "199    1.990900\n",
      "Name: ShannonDiversity, dtype: float64\n",
      "Data set 3:\n",
      "200    1.036930\n",
      "201    0.938018\n",
      "202    0.995956\n",
      "203    1.006970\n",
      "204    0.968258\n",
      "205    0.000000\n",
      "206    0.416046\n",
      "207    1.570310\n",
      "208    2.122400\n",
      "209    2.461440\n",
      "210    0.969003\n",
      "211    0.000000\n",
      "212    2.204760\n",
      "213    0.999556\n",
      "214    1.820140\n",
      "215    1.581250\n",
      "216    1.950260\n",
      "217    1.633000\n",
      "218    1.854850\n",
      "219    0.159017\n",
      "220    0.997556\n",
      "221    1.935620\n",
      "222    1.814500\n",
      "223    0.999802\n",
      "224    0.000000\n",
      "225    0.186966\n",
      "226    1.569840\n",
      "227    1.660550\n",
      "228    0.998564\n",
      "229    2.280260\n",
      "230    1.560220\n",
      "231    0.992335\n",
      "232    1.557250\n",
      "233    1.536150\n",
      "234    1.584580\n",
      "235    2.195650\n",
      "236    1.327320\n",
      "237    2.165350\n",
      "238    1.711200\n",
      "239    1.885540\n",
      "240    0.960891\n",
      "241    0.958280\n",
      "242    0.990460\n",
      "243    2.175780\n",
      "244    0.890169\n",
      "245    1.922790\n",
      "246    1.564330\n",
      "247    1.870380\n",
      "248    1.262280\n",
      "249    0.000000\n",
      "Name: ShannonDiversity, dtype: float64\n"
     ]
    }
   ],
   "source": [
    "# Análise de variância unidirecional (ANOVA)\n",
    "treatment1 = experimentDF[experimentDF[\"Virulence\"] == 0.7][\"ShannonDiversity\"]  \n",
    "treatment2 = experimentDF[experimentDF[\"Virulence\"] == 0.8][\"ShannonDiversity\"]  \n",
    "treatment3 = experimentDF[experimentDF[\"Virulence\"] == 0.9][\"ShannonDiversity\"] \n",
    "print \"Data set 1:\\n\", treatment1  \n",
    "print \"Data set 2:\\n\", treatment2  \n",
    "print \"Data set 3:\\n\", treatment3 "
   ]
  },
  {
   "cell_type": "code",
   "execution_count": 20,
   "metadata": {
    "collapsed": false
   },
   "outputs": [
    {
     "name": "stdout",
     "output_type": "stream",
     "text": [
      "One-way ANOVA P = 0.381509481874\n"
     ]
    }
   ],
   "source": [
    "# Calcular o valor de P via ANOVA \n",
    "from scipy import stats  \n",
    "f_val, p_val = stats.f_oneway(treatment1, treatment2, treatment3)  \n",
    "print \"One-way ANOVA P =\", p_val  "
   ]
  },
  {
   "cell_type": "code",
   "execution_count": 21,
   "metadata": {
    "collapsed": false
   },
   "outputs": [
    {
     "name": "stdout",
     "output_type": "stream",
     "text": [
      "Small data set:\n",
      "150    1.433800\n",
      "151    2.079700\n",
      "152    0.892139\n",
      "153    2.384740\n",
      "154    0.006980\n",
      "155    1.971760\n",
      "156    0.000000\n",
      "157    1.428470\n",
      "158    1.715950\n",
      "159    0.000000\n",
      "Name: ShannonDiversity, dtype: float64\n"
     ]
    }
   ],
   "source": [
    "# Bootstrapped para Intervalos de confiança de 95%\n",
    "# Subconjunto de uma lista de 10 pontos do conjunto de dados \n",
    "treatment1 = experimentDF[experimentDF[\"Virulence\"] == 0.8][\"ShannonDiversity\"][:10] \n",
    "print \"Small data set:\\n\", treatment1"
   ]
  },
  {
   "cell_type": "code",
   "execution_count": 23,
   "metadata": {
    "collapsed": false
   },
   "outputs": [
    {
     "name": "stdout",
     "output_type": "stream",
     "text": [
      "Intervalos de confiança de 95% pelo método Bootstrapped \n",
      "Low: 0.610128872 \n",
      "High: 1.6860759\n"
     ]
    }
   ],
   "source": [
    "import scipy  \n",
    "import scikits.bootstrap as bootstrap  \n",
    "# Calcula o intervalo de confiança de 95% em torno da média\n",
    "CIs = bootstrap.ci(data=treatment1, statfunction=scipy.mean) \n",
    "print \"Intervalos de confiança de 95% pelo método Bootstrapped \\nLow:\", CIs[0], \"\\nHigh:\", CIs[1] \n"
   ]
  },
  {
   "cell_type": "code",
   "execution_count": 24,
   "metadata": {
    "collapsed": false
   },
   "outputs": [
    {
     "name": "stdout",
     "output_type": "stream",
     "text": [
      "Intervalos de confiança de 80% pelo método Bootstrapped\n",
      "Low: 0.815653948 \n",
      "High: 1.525292024\n"
     ]
    }
   ],
   "source": [
    "# Intervalo de confiança de 80%\n",
    "CIs = bootstrap.ci(treatment1, scipy.mean, alpha=0.2) \n",
    "print \"Intervalos de confiança de 80% pelo método Bootstrapped\\nLow:\", CIs[0], \"\\nHigh:\", CIs[1] "
   ]
  },
  {
   "cell_type": "code",
   "execution_count": 32,
   "metadata": {
    "collapsed": false
   },
   "outputs": [
    {
     "name": "stdout",
     "output_type": "stream",
     "text": [
      "Intervalos de confiança de 95% pelo Bootstrapped  com peso 20.000,000 amostras\n",
      "Low: 0.6144479 \n",
      "High: 1.696354024\n"
     ]
    }
   ],
   "source": [
    "# bootstrap em 20.000 amostras em vez de apenas 10.000  \n",
    "CIs = bootstrap.ci(treatment1, scipy.mean, n_samples=20000)  \n",
    "print \"Intervalos de confiança de 95% pelo Bootstrapped  com peso 20.000,000 amostras\\nLow:\", CIs[0], \"\\nHigh:\", CIs[1] \n"
   ]
  },
  {
   "cell_type": "code",
   "execution_count": null,
   "metadata": {
    "collapsed": true
   },
   "outputs": [],
   "source": []
  }
 ],
 "metadata": {
  "anaconda-cloud": {},
  "kernelspec": {
   "display_name": "Python [default]",
   "language": "python",
   "name": "python2"
  },
  "language_info": {
   "codemirror_mode": {
    "name": "ipython",
    "version": 2
   },
   "file_extension": ".py",
   "mimetype": "text/x-python",
   "name": "python",
   "nbconvert_exporter": "python",
   "pygments_lexer": "ipython2",
   "version": "2.7.12"
  }
 },
 "nbformat": 4,
 "nbformat_minor": 1
}
